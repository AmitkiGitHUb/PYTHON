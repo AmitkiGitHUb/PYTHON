{
  "nbformat": 4,
  "nbformat_minor": 0,
  "metadata": {
    "colab": {
      "provenance": [],
      "authorship_tag": "ABX9TyM/ICOpxTZHyyL2/eVT29tT",
      "include_colab_link": true
    },
    "kernelspec": {
      "name": "python3",
      "display_name": "Python 3"
    },
    "language_info": {
      "name": "python"
    }
  },
  "cells": [
    {
      "cell_type": "markdown",
      "metadata": {
        "id": "view-in-github",
        "colab_type": "text"
      },
      "source": [
        "<a href=\"https://colab.research.google.com/github/AmitkiGitHUb/PYTHON/blob/main/Python_list.ipynb\" target=\"_parent\"><img src=\"https://colab.research.google.com/assets/colab-badge.svg\" alt=\"Open In Colab\"/></a>"
      ]
    },
    {
      "cell_type": "code",
      "execution_count": null,
      "metadata": {
        "id": "vHtAI7V1S509"
      },
      "outputs": [],
      "source": [
        "#AMIT JANA, PYTHON_LIST_PROGRAM_DATA SCIENCE"
      ]
    },
    {
      "cell_type": "markdown",
      "source": [
        "1. Write a Python program to sum all the items in a list.\n",
        "2. Write a Python program to get the largest and smallest number from a list without builtin functions.\n",
        "3. Write a Python program to find duplicate values from a list and display those.\n",
        "4. Write a Python program to split a given list into two parts where the length of the first part of the list is given.\n",
        "Original list:\n",
        "[1, 1, 2, 3, 4, 4, 5, 1]\n",
        "Length of the first part of the list: 3\n",
        "Splitted the said list into two parts: ([1, 1, 2], [3, 4, 4, 5, 1])\n",
        "5. Write a Python program to traverse a given list in reverse order, and print the elements with the original index.\n",
        "Original list:\n",
        "['red', 'green', 'white', 'black']\n",
        "Traverse the said list in reverse order:\n",
        "black\n",
        "white\n",
        "green\n",
        "red"
      ],
      "metadata": {
        "id": "Kb3KfRNKUcls"
      }
    },
    {
      "cell_type": "code",
      "source": [
        "# 1.Write a Python program to sum all the items in a list.\n",
        "def sum_of_list(lst):\n",
        "    total = 0\n",
        "    for num in lst:\n",
        "        total += num\n",
        "    return total\n",
        "\n",
        "# Example list\n",
        "my_list = [1, 2, 3, 4, 5, 6, 7]\n",
        "print(\"Sum of the list:\", sum_of_list(my_list))\n"
      ],
      "metadata": {
        "colab": {
          "base_uri": "https://localhost:8080/"
        },
        "id": "aF2Uz5_RUd76",
        "outputId": "31d5d79f-3206-464c-bc13-e9044798b277"
      },
      "execution_count": 2,
      "outputs": [
        {
          "output_type": "stream",
          "name": "stdout",
          "text": [
            "Sum of the list: 28\n"
          ]
        }
      ]
    },
    {
      "cell_type": "code",
      "source": [
        "#2.Write a Python program to get the largest and smallest number from a list without builtin functions.\n",
        "def find_min_max(lst):\n",
        "    if not lst:  # Check if the list is empty\n",
        "        return None, None\n",
        "    smallest = largest = lst[0]\n",
        "    for num in lst:\n",
        "        if num < smallest:\n",
        "            smallest = num\n",
        "        if num > largest:\n",
        "            largest = num\n",
        "    return smallest, largest\n",
        "\n",
        "# Example\n",
        "my_list = [3, 1, 5, 2, 4]\n",
        "smallest, largest = find_min_max(my_list)\n",
        "print(\"Smallest number:\", smallest)\n",
        "print(\"Largest number:\", largest)\n",
        "\n",
        "\n"
      ],
      "metadata": {
        "colab": {
          "base_uri": "https://localhost:8080/"
        },
        "id": "7XqL_QgQYKIC",
        "outputId": "20557bb9-ceed-4df5-8613-b5a2c0d892bb"
      },
      "execution_count": 3,
      "outputs": [
        {
          "output_type": "stream",
          "name": "stdout",
          "text": [
            "Smallest number: 1\n",
            "Largest number: 5\n"
          ]
        }
      ]
    },
    {
      "cell_type": "code",
      "source": [
        "#3.Write a Python program to find duplicate values from a list and display those.\n",
        "def find_duplicates(lst):\n",
        "    duplicates = []\n",
        "    seen = set()\n",
        "    for item in lst:\n",
        "        if item in seen and item not in duplicates:\n",
        "            duplicates.append(item)\n",
        "        else:\n",
        "            seen.add(item)\n",
        "    return duplicates\n",
        "\n",
        "# Example\n",
        "my_list = [1, 2, 3, 4, 1, 2, 5]\n",
        "print(\"Duplicate values:\", find_duplicates(my_list))\n"
      ],
      "metadata": {
        "colab": {
          "base_uri": "https://localhost:8080/"
        },
        "id": "cdQkCYGFe-Gb",
        "outputId": "30188fef-a20b-4e52-903e-24e051811c8c"
      },
      "execution_count": 6,
      "outputs": [
        {
          "output_type": "stream",
          "name": "stdout",
          "text": [
            "Duplicate values: [1, 2]\n"
          ]
        }
      ]
    },
    {
      "cell_type": "code",
      "source": [
        "#4.Write a Python program to split a given list into two parts where the length of the first part of the list is given. Original list: [1, 1, 2, 3, 4, 4, 5, 1] Length of the first part of the list: 3 Splitted the said list into two parts: ([1, 1, 2], [3, 4, 4, 5, 1])\n",
        "def split_list(lst, length):\n",
        "    if length > len(lst):\n",
        "        return lst, []\n",
        "    first_part = lst[:length]\n",
        "    second_part = lst[length:]\n",
        "    return first_part, second_part\n",
        "\n",
        "# Example\n",
        "original_list = [1, 1, 2, 3, 4, 4, 5, 1]\n",
        "split_length = 3\n",
        "part1, part2 = split_list(original_list, split_length)\n",
        "print(\"Splitted the said list into two parts:\", (part1, part2))\n"
      ],
      "metadata": {
        "colab": {
          "base_uri": "https://localhost:8080/"
        },
        "id": "HAfQaja-fS-4",
        "outputId": "dd66aced-f1a4-4c87-e623-2b9fe07dc754"
      },
      "execution_count": 5,
      "outputs": [
        {
          "output_type": "stream",
          "name": "stdout",
          "text": [
            "Splitted the said list into two parts: ([1, 1, 2], [3, 4, 4, 5, 1])\n"
          ]
        }
      ]
    },
    {
      "cell_type": "code",
      "source": [
        "#5. Write a Python program to traverse a given list in reverse order, and print the elements with the original index. Original list: ['red', 'green', 'white', 'black'] Traverse the said list in reverse order: black white green red\n",
        "def traverse_reverse_with_index(lst):\n",
        "    for index in range(len(lst) - 1, -1, -1):\n",
        "        print(f\"Index {index}: {lst[index]}\")\n",
        "\n",
        "# Example\n",
        "original_list = ['red', 'green', 'white', 'black']\n",
        "print(\"Traverse the said list in reverse order:\")\n",
        "traverse_reverse_with_index(original_list)\n"
      ],
      "metadata": {
        "colab": {
          "base_uri": "https://localhost:8080/"
        },
        "id": "6_SV9y8aflQa",
        "outputId": "3a90e5d0-233f-4709-944f-eaa7889d5025"
      },
      "execution_count": 4,
      "outputs": [
        {
          "output_type": "stream",
          "name": "stdout",
          "text": [
            "Traverse the said list in reverse order:\n",
            "Index 3: black\n",
            "Index 2: white\n",
            "Index 1: green\n",
            "Index 0: red\n"
          ]
        }
      ]
    }
  ]
}