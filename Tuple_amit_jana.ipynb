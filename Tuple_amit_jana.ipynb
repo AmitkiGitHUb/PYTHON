{
  "nbformat": 4,
  "nbformat_minor": 0,
  "metadata": {
    "colab": {
      "provenance": [],
      "authorship_tag": "ABX9TyM0Af74Iqg+KIOzdN9Oe0bx",
      "include_colab_link": true
    },
    "kernelspec": {
      "name": "python3",
      "display_name": "Python 3"
    },
    "language_info": {
      "name": "python"
    }
  },
  "cells": [
    {
      "cell_type": "markdown",
      "metadata": {
        "id": "view-in-github",
        "colab_type": "text"
      },
      "source": [
        "<a href=\"https://colab.research.google.com/github/AmitkiGitHUb/PYTHON/blob/main/Tuple_amit_jana.ipynb\" target=\"_parent\"><img src=\"https://colab.research.google.com/assets/colab-badge.svg\" alt=\"Open In Colab\"/></a>"
      ]
    },
    {
      "cell_type": "markdown",
      "source": [
        "#TUPLE_AMIT JANA\n",
        "1. Write a Python program to find the number of times 4 appears in the tuple\n",
        "Input:\n",
        "tuplex = (2, 4, 5, 6, 2, 3, 4, 4, 7)\n",
        "Output: 3\n",
        "2. Write a Python program to convert a list to a tuple.\n",
        "Input: listx = [5, 10, 7, 4, 15, 3]\n",
        "Output: (5, 10, 7, 4, 15, 3)\n",
        "3. Write a Python program to calculate the sum of the numbers in a given tup\n",
        "Input: tuples_list = [(1, 2), (3, 4), (5, 6)]\n",
        "Output:\n",
        "Sum of values in the tuples: 2"
      ],
      "metadata": {
        "id": "l5pQJpmWrU17"
      }
    },
    {
      "cell_type": "code",
      "source": [
        "#1.Write a Python program to find the number of times 4 appears in the tuple Input: tuplex = (2, 4, 5, 6, 2, 3, 4, 4, 7) Output: 3\n",
        "tuplex = (2, 4, 5, 6, 2, 3, 4, 4, 7)\n",
        "count = tuplex.count(4)\n",
        "print(count)\n"
      ],
      "metadata": {
        "colab": {
          "base_uri": "https://localhost:8080/",
          "height": 0
        },
        "id": "_H9KEYNOrmJJ",
        "outputId": "6be9ad80-098c-46bc-9244-eb91e8d95f3b"
      },
      "execution_count": 2,
      "outputs": [
        {
          "output_type": "stream",
          "name": "stdout",
          "text": [
            "3\n"
          ]
        }
      ]
    },
    {
      "cell_type": "code",
      "source": [
        "#alternate\n",
        "def count_occurrences(tuplex, element):\n",
        "    return tuplex.count(element)\n",
        "\n",
        "tuplex = (2, 4, 5, 6, 2, 3, 4, 4, 7)\n",
        "element = 4\n",
        "count = count_occurrences(tuplex, element)\n",
        "print(f\"The number of times {element} appears in the tuple:\", count)\n"
      ],
      "metadata": {
        "colab": {
          "base_uri": "https://localhost:8080/",
          "height": 0
        },
        "id": "A-t6mEnGrat0",
        "outputId": "4943de35-37ed-482c-a3eb-efe44f666fa8"
      },
      "execution_count": 3,
      "outputs": [
        {
          "output_type": "stream",
          "name": "stdout",
          "text": [
            "The number of times 4 appears in the tuple: 3\n"
          ]
        }
      ]
    },
    {
      "cell_type": "code",
      "source": [
        "'''#2. Write a Python program to convert a list to a tuple.\n",
        "Input: listx = [5, 10, 7, 4, 15, 3]\n",
        "Output: (5, 10, 7, 4, 15, 3)'''\n",
        "def list_to_tuple(lst):\n",
        "    return tuple(lst)\n",
        "\n",
        "listx = [5, 10, 7, 4, 15, 3]\n",
        "result_tuple = list_to_tuple(listx)\n",
        "print(\"Converted tuple:\", result_tuple)\n"
      ],
      "metadata": {
        "colab": {
          "base_uri": "https://localhost:8080/",
          "height": 0
        },
        "id": "UAcZZG8gslaj",
        "outputId": "10c1a327-5746-4435-96dc-cc415ad504e7"
      },
      "execution_count": 4,
      "outputs": [
        {
          "output_type": "stream",
          "name": "stdout",
          "text": [
            "Converted tuple: (5, 10, 7, 4, 15, 3)\n"
          ]
        }
      ]
    },
    {
      "cell_type": "code",
      "source": [
        "'''3. Write a Python program to calculate the sum of the numbers in a given tuple\n",
        "Input: tuples_list = [(1, 2), (3, 4), (5, 6)]\n",
        "Output:\n",
        "Sum of values in the tuples: 21'''\n",
        "def sum_of_tuples(tuples_list):\n",
        "    total_sum = 0\n",
        "    for tup in tuples_list:\n",
        "        total_sum += sum(tup)\n",
        "    return total_sum\n",
        "\n",
        "# Example\n",
        "tuples_list = [(1, 2), (3, 4), (5, 6)]\n",
        "total = sum_of_tuples(tuples_list)\n",
        "print(\"Sum of values in the tuples:\", total)\n"
      ],
      "metadata": {
        "colab": {
          "base_uri": "https://localhost:8080/",
          "height": 0
        },
        "id": "n_q2T-kps5PL",
        "outputId": "7557a795-af55-499e-99ca-ec362d658439"
      },
      "execution_count": 5,
      "outputs": [
        {
          "output_type": "stream",
          "name": "stdout",
          "text": [
            "Sum of values in the tuples: 21\n"
          ]
        }
      ]
    },
    {
      "cell_type": "code",
      "source": [
        "'''4.Write a python program and iterate the given tuples\n",
        "Input:\n",
        "employee1 = (\"John Doe\", 101, \"Human Resources\", 60000)\n",
        "employee2 = (\"Alice Smith\", 102, \"Marketing\", 55000)\n",
        "employee3 = (\"Bob Johnson\", 103, \"Engineering\", 75000)\n",
        "Output:\n",
        "Employee Records:\n",
        "Name: John Doe\n",
        "Employee ID: 101\n",
        "Department: Human Resources\n",
        "Salary: $60000\n",
        "Name: Alice Smith\n",
        "Employee ID: 102\n",
        "Department: Marketing\n",
        "Salary: $55000\n",
        "Name: Bob Johnson\n",
        "Employee ID: 103\n",
        "Department: Engineering\n",
        "Salary: $75000'''\n",
        "\n",
        "\n",
        "def display_employee_records(*employees):\n",
        "    print(\"Employee Records:\")\n",
        "    for employee in employees:\n",
        "        print(f\"Name: {employee[0]}\")\n",
        "        print(f\"Employee ID: {employee[1]}\")\n",
        "        print(f\"Department: {employee[2]}\")\n",
        "        print(f\"Salary: ${employee[3]}\")\n",
        "        print()  # Empty line for better readability\n",
        "\n",
        "# Input tuples\n",
        "employee1 = (\"John Doe\", 101, \"Human Resources\", 60000)\n",
        "employee2 = (\"Alice Smith\", 102, \"Marketing\", 55000)\n",
        "employee3 = (\"Bob Johnson\", 103, \"Engineering\", 75000)\n",
        "\n",
        "# Display records\n",
        "display_employee_records(employee1, employee2, employee3)\n"
      ],
      "metadata": {
        "colab": {
          "base_uri": "https://localhost:8080/",
          "height": 0
        },
        "id": "pzRl2nh6th4x",
        "outputId": "75f3f316-0b6d-4747-98d3-6a80121cd1f0"
      },
      "execution_count": 6,
      "outputs": [
        {
          "output_type": "stream",
          "name": "stdout",
          "text": [
            "Employee Records:\n",
            "Name: John Doe\n",
            "Employee ID: 101\n",
            "Department: Human Resources\n",
            "Salary: $60000\n",
            "\n",
            "Name: Alice Smith\n",
            "Employee ID: 102\n",
            "Department: Marketing\n",
            "Salary: $55000\n",
            "\n",
            "Name: Bob Johnson\n",
            "Employee ID: 103\n",
            "Department: Engineering\n",
            "Salary: $75000\n",
            "\n"
          ]
        }
      ]
    }
  ]
}