{
  "nbformat": 4,
  "nbformat_minor": 0,
  "metadata": {
    "colab": {
      "provenance": [],
      "authorship_tag": "ABX9TyMaJXagxnOuxOQYqiWSa5he",
      "include_colab_link": true
    },
    "kernelspec": {
      "name": "python3",
      "display_name": "Python 3"
    },
    "language_info": {
      "name": "python"
    }
  },
  "cells": [
    {
      "cell_type": "markdown",
      "metadata": {
        "id": "view-in-github",
        "colab_type": "text"
      },
      "source": [
        "<a href=\"https://colab.research.google.com/github/AmitkiGitHUb/PYTHON/blob/main/dictionary_lab_program.ipynb\" target=\"_parent\"><img src=\"https://colab.research.google.com/assets/colab-badge.svg\" alt=\"Open In Colab\"/></a>"
      ]
    },
    {
      "cell_type": "code",
      "execution_count": null,
      "metadata": {
        "id": "-Ew5Fb0rjwpR"
      },
      "outputs": [],
      "source": [
        "#dictionary_lab_program\n",
        "#AMIT JANA_AF0444727\n",
        "\n"
      ]
    },
    {
      "cell_type": "code",
      "source": [
        "#dictionary lab problem in python\n",
        "#1. Write a Python program and calculate the mean of the below dictionary.\n",
        "#test_dict={\"A\": 6, \"B\" : 9, \"C\": 5, \"D\" : 7, \"E\":4}\n",
        "#Output: 6.2\n",
        "\n",
        "def calculate_mean(dictionary):\n",
        "    total = sum(dictionary.values())\n",
        "    count = len(dictionary)\n",
        "    mean = total / count\n",
        "    return mean\n",
        "\n",
        "# Example\n",
        "test_dict = {\"A\": 6, \"B\": 9, \"C\": 5, \"D\": 7, \"E\": 4}\n",
        "mean_value = calculate_mean(test_dict)\n",
        "print(\"Mean:\", mean_value)\n"
      ],
      "metadata": {
        "colab": {
          "base_uri": "https://localhost:8080/",
          "height": 0
        },
        "id": "JOD8Hmv3mHFM",
        "outputId": "1e9734b8-2a91-48a0-d117-20127cb3f65e"
      },
      "execution_count": 1,
      "outputs": [
        {
          "output_type": "stream",
          "name": "stdout",
          "text": [
            "Mean: 6.2\n"
          ]
        }
      ]
    },
    {
      "cell_type": "code",
      "source": [
        "\"\"\"2.Write a Python script to concatenate the following dictionaries to create a new one.\n",
        "Sample Dictionary:\n",
        "dic1={1:10, 2:20}\n",
        "dic2=(3:30, 4:40}\n",
        "dic3={5:50,6:60}\n",
        "Expected Result: (1: 10, 2: 20, 3: 30, 4: 40, 5: 50, 6: 60}\n",
        "                  \"\"\"\n",
        "def concatenate_dictionaries(*dicts):\n",
        "    result = {}\n",
        "    for d in dicts:\n",
        "        result.update(d)\n",
        "    return result\n",
        "\n",
        "# Example\n",
        "dic1 = {1: 10, 2: 20}\n",
        "dic2 = {3: 30, 4: 40}\n",
        "dic3 = {5: 50, 6: 60}\n",
        "concatenated_dict = concatenate_dictionaries(dic1, dic2, dic3)\n",
        "print(\"Concatenated Dictionary:\", concatenated_dict)\n"
      ],
      "metadata": {
        "colab": {
          "base_uri": "https://localhost:8080/",
          "height": 0
        },
        "id": "ig161ahumciq",
        "outputId": "2c1ab5e2-3bed-4dad-ac83-a952844d5e33"
      },
      "execution_count": 4,
      "outputs": [
        {
          "output_type": "stream",
          "name": "stdout",
          "text": [
            "Concatenated Dictionary: {1: 10, 2: 20, 3: 30, 4: 40, 5: 50, 6: 60}\n"
          ]
        }
      ]
    },
    {
      "cell_type": "code",
      "source": [
        "\"\"\"3.Write a Python program to get the key, value and item in a dictionary.\n",
        "input:dict_num = {1: 10, 2: 20, 3: 30, 4: 40, 5: 50, 6: 60}\n",
        "Output:\n",
        "key\n",
        "value\n",
        "1\n",
        "10\n",
        "2\n",
        "20\n",
        "3\n",
        "30\n",
        "4\n",
        "40\n",
        "5\n",
        "50\n",
        "6\n",
        "60\"\"\"\n",
        "\n",
        "\n",
        "def print_dictionary_items(dictionary):\n",
        "    print(\"Key\\tValue\")\n",
        "    for key, value in dictionary.items():\n",
        "        print(f\"{key}\\t{value}\")\n",
        "# Example\n",
        "dict_num = {1: 10, 2: 20, 3: 30, 4: 40, 5: 50, 6: 60}\n",
        "display_dict_items(dict_num)"
      ],
      "metadata": {
        "colab": {
          "base_uri": "https://localhost:8080/",
          "height": 0
        },
        "id": "iQeMueBBnBAK",
        "outputId": "9bee0929-2525-4278-9170-b4fda1bee6ea"
      },
      "execution_count": 12,
      "outputs": [
        {
          "output_type": "stream",
          "name": "stdout",
          "text": [
            "key\tvalue\n",
            "1\t10\n",
            "2\t20\n",
            "3\t30\n",
            "4\t40\n",
            "5\t50\n",
            "6\t60\n"
          ]
        }
      ]
    },
    {
      "cell_type": "code",
      "source": [
        "#different way"
      ],
      "metadata": {
        "id": "Mo-fsPQ8n3Qf"
      },
      "execution_count": null,
      "outputs": []
    },
    {
      "cell_type": "code",
      "source": [
        "def display_dict_items(dictionary):\n",
        "    print(\"key\", \"value\", sep=\"\\t\")\n",
        "    for key, value in dictionary.items():\n",
        "        print(key, value, sep=\"\\t\")\n",
        "\n",
        "# Example\n",
        "dict_num = {1: 10, 2: 20, 3: 30, 4: 40, 5: 50, 6: 60}\n",
        "display_dict_items(dict_num)\n"
      ],
      "metadata": {
        "colab": {
          "base_uri": "https://localhost:8080/",
          "height": 0
        },
        "id": "giKfO2o9nlmp",
        "outputId": "ec1df8b7-91f9-4e30-ebb6-4a02a0ef8de3"
      },
      "execution_count": 10,
      "outputs": [
        {
          "output_type": "stream",
          "name": "stdout",
          "text": [
            "key\tvalue\n",
            "1\t10\n",
            "2\t20\n",
            "3\t30\n",
            "4\t40\n",
            "5\t50\n",
            "6\t60\n"
          ]
        }
      ]
    },
    {
      "cell_type": "code",
      "source": [
        "\"\"\"#4.Write a Python program to get the key, value and item in a dictionary.\n",
        "Input: input_dict = {1: 10, 2: 20, 3:None, 4: 40, 5: None, 6: 60}\n",
        "Output:\n",
        "Dictionary with Empty Items Dropped: {1: 10, 2:20, 4: 40, 6: 60}\"\"\"\n",
        "\n",
        "def remove_empty_items(input_dict):\n",
        "    # Use dictionary comprehension to filter out None values\n",
        "    cleaned_dict = {key: value for key, value in input_dict.items() if value is not None}\n",
        "    return cleaned_dict\n",
        "\n",
        "# exp\n",
        "input_dict = {1: 10, 2: 20, 3: None, 4: 40, 5: None, 6: 60}\n",
        "result_dict = remove_empty_items(input_dict)\n",
        "print(\"Dictionary with Empty Items Dropped:\", result_dict)\n"
      ],
      "metadata": {
        "colab": {
          "base_uri": "https://localhost:8080/",
          "height": 0
        },
        "id": "8V9VjCSDn6ry",
        "outputId": "dcc9d695-217e-4b6c-d9e9-b5c6e20b777b"
      },
      "execution_count": 13,
      "outputs": [
        {
          "output_type": "stream",
          "name": "stdout",
          "text": [
            "Dictionary with Empty Items Dropped: {1: 10, 2: 20, 4: 40, 6: 60}\n"
          ]
        }
      ]
    }
  ]
}