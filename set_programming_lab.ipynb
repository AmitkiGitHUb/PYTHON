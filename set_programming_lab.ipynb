{
  "nbformat": 4,
  "nbformat_minor": 0,
  "metadata": {
    "colab": {
      "provenance": [],
      "authorship_tag": "ABX9TyNbC7Whe3JLBeBZFqzZZdPp",
      "include_colab_link": true
    },
    "kernelspec": {
      "name": "python3",
      "display_name": "Python 3"
    },
    "language_info": {
      "name": "python"
    }
  },
  "cells": [
    {
      "cell_type": "markdown",
      "metadata": {
        "id": "view-in-github",
        "colab_type": "text"
      },
      "source": [
        "<a href=\"https://colab.research.google.com/github/AmitkiGitHUb/PYTHON/blob/main/set_programming_lab.ipynb\" target=\"_parent\"><img src=\"https://colab.research.google.com/assets/colab-badge.svg\" alt=\"Open In Colab\"/></a>"
      ]
    },
    {
      "cell_type": "markdown",
      "source": [
        "set_programming lab\n",
        "1. Write a Python program to Get Only unique items from two sets.\n",
        "Input:\n",
        "set1 = {10, 20, 30, 40, 50)\n",
        "set2 (30, 40, 50, 60, 70)\n",
        "Output:\n",
        "(70, 40, 10, 50, 20, 60, 30)\n",
        "2. Write a Python program to Return a set of elements present in Set A or B, but not both.\n",
        "Input:\n",
        "set1 {10, 20, 30, 40, 50)\n",
        "set2 (30, 40, 50, 60, 70)\n",
        "Output:\n",
        "{20, 70, 10, 60}\n",
        "3. Write a Python program to Check if two sets have any elements in common. If yes, display the common elements.\n",
        "Input:\n",
        "set1 = {10, 20, 30, 40, 50)\n",
        "set2 (60, 70, 80, 90, 10)\n",
        "Output:\n",
        "{10}\n",
        "3. Write a Python program to Remove items from set1 that are not common to both set1 and set2.\n",
        "Input:\n",
        "set1 {10, 20, 30, 40, 50)\n",
        "set2 = {30, 40, 50, 60, 70)\n",
        "Output:\n",
        "{40, 50, 30}"
      ],
      "metadata": {
        "id": "6U3ZdXHuxgJs"
      }
    },
    {
      "cell_type": "code",
      "source": [
        "#1.Write a Python program to Get Only unique items from two sets. Input: set1 = {10, 20, 30, 40, 50) set2 (30, 40, 50, 60, 70) Output: (70, 40, 10, 50, 20, 60, 30)\n",
        "def unique_items(set1, set2):\n",
        "    return set1.union(set2)\n",
        "\n",
        "# Input\n",
        "set1 = {10, 20, 30, 40, 50}\n",
        "set2 = {30, 40, 50, 60, 70}\n",
        "result = unique_items(set1, set2)\n",
        "print(\"Unique items:\", result)\n"
      ],
      "metadata": {
        "colab": {
          "base_uri": "https://localhost:8080/",
          "height": 0
        },
        "id": "yP463ZdUxhjg",
        "outputId": "c36ec560-cefc-4602-bba0-acce4555bead"
      },
      "execution_count": 1,
      "outputs": [
        {
          "output_type": "stream",
          "name": "stdout",
          "text": [
            "Unique items: {70, 40, 10, 50, 20, 60, 30}\n"
          ]
        }
      ]
    },
    {
      "cell_type": "code",
      "source": [
        "#2.Write a Python program to Return a set of elements present in Set A or B, but not both. Input: set1 {10, 20, 30, 40, 50) set2 (30, 40, 50, 60, 70) Output: {20, 70, 10, 60}\n",
        "def symmetric_difference(set1, set2):\n",
        "    return set1.symmetric_difference(set2)\n",
        "\n",
        "# Input\n",
        "set1 = {10, 20, 30, 40, 50}\n",
        "set2 = {30, 40, 50, 60, 70}\n",
        "result = symmetric_difference(set1, set2)\n",
        "print(\"Elements in Set A or B, but not both:\", result)\n"
      ],
      "metadata": {
        "colab": {
          "base_uri": "https://localhost:8080/",
          "height": 0
        },
        "id": "98s2Hpk9yxsg",
        "outputId": "a25ca40d-d919-4aaa-e17a-17e087bfda67"
      },
      "execution_count": 2,
      "outputs": [
        {
          "output_type": "stream",
          "name": "stdout",
          "text": [
            "Elements in Set A or B, but not both: {20, 70, 10, 60}\n"
          ]
        }
      ]
    },
    {
      "cell_type": "code",
      "source": [
        "#3.Write a Python program to Check if two sets have any elements in common. If yes, display the common elements. Input: set1 = {10, 20, 30, 40, 50) set2 (60, 70, 80, 90, 10) Output: {10}\n",
        "def common_elements(set1, set2):\n",
        "    return set1.intersection(set2)\n",
        "\n",
        "# Input\n",
        "set1 = {10, 20, 30, 40, 50}\n",
        "set2 = {60, 70, 80, 90, 10}\n",
        "result = common_elements(set1, set2)\n",
        "if result:\n",
        "    print(\"Common elements:\", result)\n",
        "else:\n",
        "    print(\"No common elements\")\n"
      ],
      "metadata": {
        "id": "Ez7XzFQEy_Bg"
      },
      "execution_count": null,
      "outputs": []
    },
    {
      "cell_type": "code",
      "source": [
        "#4.Write a Python program to Remove items from set1 that are not common to both set1 and set2.\n",
        "\"\"\"Input:\n",
        "set1 {10, 20, 30, 40, 50)\n",
        "set2 = {30, 40, 50, 60, 70)\n",
        "Output:\n",
        "{40, 50, 30}\"\"\"\n",
        "\n",
        "\n",
        "\n",
        "def retain_common_elements(set1, set2):\n",
        "    return set1.intersection(set2)\n",
        "\n",
        "# Input\n",
        "set1 = {10, 20, 30, 40, 50}\n",
        "set2 = {30, 40, 50, 60, 70}\n",
        "\n",
        "# Find common elements\n",
        "result = retain_common_elements(set1, set2)\n",
        "print(\"Items in set1 that are common to both set1 and set2:\", result)\n"
      ],
      "metadata": {
        "colab": {
          "base_uri": "https://localhost:8080/",
          "height": 0
        },
        "id": "W0Dn5iPnzQa2",
        "outputId": "5db39a29-40e3-4c7a-e11c-26b6ddf14fb4"
      },
      "execution_count": 17,
      "outputs": [
        {
          "output_type": "stream",
          "name": "stdout",
          "text": [
            "Items in set1 that are common to both set1 and set2: {40, 50, 30}\n"
          ]
        }
      ]
    },
    {
      "cell_type": "code",
      "source": [],
      "metadata": {
        "id": "c5OljmydyiJo"
      },
      "execution_count": null,
      "outputs": []
    }
  ]
}